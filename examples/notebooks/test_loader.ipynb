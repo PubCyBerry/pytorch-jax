{
 "cells": [
  {
   "cell_type": "code",
   "execution_count": 1,
   "metadata": {},
   "outputs": [
    {
     "name": "stdout",
     "output_type": "stream",
     "text": [
      "Python Version: 3.10.6 (main, Mar 10 2023, 10:55:28) [GCC 11.3.0]\n",
      "NumPy Version: 1.22.2\n",
      "Jax Version: 0.4.11\n",
      "Jaxlib Version: 0.4.11\n",
      "PyTorch Version: 2.0.0\n",
      "CUDA Version: 12.1\n",
      "CuDNN Version: 8901\n",
      "JAX Device: gpu\n"
     ]
    }
   ],
   "source": [
    "%reload_ext autoreload\n",
    "%autoreload 2\n",
    "\n",
    "# Misc.\n",
    "import os\n",
    "import sys\n",
    "\n",
    "# JAX\n",
    "import jax\n",
    "import jax.numpy as jnp\n",
    "import jaxlib\n",
    "\n",
    "# NumPy\n",
    "import numpy as np\n",
    "\n",
    "# PyTorch\n",
    "import torch\n",
    "import torch.nn.functional as F\n",
    "from torch.utils.data import DataLoader\n",
    "from torchvision import datasets, transforms\n",
    "\n",
    "# Disable GPU Preallocation for safe multiprocessing\n",
    "os.environ[\"XLA_PYTHON_CLIENT_PREALLOCATE\"] = \"false\"\n",
    "\n",
    "print(\"Python Version:\", sys.version)\n",
    "print(\"NumPy Version:\", np.__version__)\n",
    "print(\"Jax Version:\", jax.__version__)\n",
    "print(\"Jaxlib Version:\", jaxlib.__version__)\n",
    "print(\"PyTorch Version:\", torch.__version__)\n",
    "print(\"CUDA Version:\", torch.version.cuda)\n",
    "print(\"CuDNN Version:\", torch.backends.cudnn.version())\n",
    "print(\"JAX Device:\", jax.lib.xla_bridge.get_backend().platform)"
   ]
  },
  {
   "attachments": {},
   "cell_type": "markdown",
   "metadata": {},
   "source": [
    "## [Reference](https://colab.research.google.com/github/kk1694/blog/blob/master/_notebooks/2021-05-03-Pytorch_Dataloaders_for_Jax.ipynb#scrollTo=R-aS7KqOfAcM)"
   ]
  }
 ],
 "metadata": {
  "kernelspec": {
   "display_name": "Python 3",
   "language": "python",
   "name": "python3"
  },
  "language_info": {
   "codemirror_mode": {
    "name": "ipython",
    "version": 3
   },
   "file_extension": ".py",
   "mimetype": "text/x-python",
   "name": "python",
   "nbconvert_exporter": "python",
   "pygments_lexer": "ipython3",
   "version": "3.10.6"
  },
  "orig_nbformat": 4
 },
 "nbformat": 4,
 "nbformat_minor": 2
}
